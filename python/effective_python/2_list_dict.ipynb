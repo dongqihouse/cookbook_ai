{
 "cells": [
  {
   "cell_type": "markdown",
   "metadata": {},
   "source": [
    "# 切片\n",
    "切片操作，下标负数, 从 -1 开始，倒着数\n",
    "* 切片的下标可以越界，或者end < start,都不会报错\n",
    "  * 原则上 end还是一定要大于start\n",
    "* 切片操作在赋值符号的左右都可以，在左边则为替换原列表切片返回的值"
   ]
  },
  {
   "cell_type": "code",
   "execution_count": 4,
   "metadata": {},
   "outputs": [
    {
     "name": "stdout",
     "output_type": "stream",
     "text": [
      "[3, 4]\n",
      "[]\n",
      "[1, 2, 3, 4]\n",
      "[-1, 0, 2, 3, 4]\n"
     ]
    }
   ],
   "source": [
    "demo_list = [1, 2, 3 ,4]\n",
    "print(demo_list[-2:])\n",
    "print(demo_list[-2: 1]) # 这种错误的下标，会直接返回未[]\n",
    "print(demo_list[0: 20]) # 忽略超出的部分\n",
    "demo_list[0:1] = [-1, 0] # 使用[-1, 0]来替换 1\n",
    "print(demo_list)"
   ]
  },
  {
   "cell_type": "markdown",
   "metadata": {},
   "source": [
    "stride表示步长， \n",
    "* 正数是 ->\n",
    "* 负数是 <-\n",
    "\n",
    "这里给出的建议是 起止下标尽量不要和步长放在一起写，减少理解成本\n"
   ]
  },
  {
   "cell_type": "code",
   "execution_count": 15,
   "metadata": {},
   "outputs": [
    {
     "name": "stdout",
     "output_type": "stream",
     "text": [
      "[4]\n",
      "[4, 3, 2, 1, 0]\n",
      "[4]\n",
      "[]\n",
      "[0, 1, 2, 3, 4]\n",
      "[]\n",
      "[4, 3, 2, 1, 0]\n"
     ]
    }
   ],
   "source": [
    "demo_list = [0, 1, 2, 3, 4]\n",
    "print(demo_list[-1::1])\n",
    "print(demo_list[-1::-1])\n",
    "print(demo_list[-1:3:-1])\n",
    "print(demo_list[-1:3:1])\n",
    "print(demo_list)\n",
    "print(demo_list[-1:3])\n",
    "print(demo_list[::-1])"
   ]
  },
  {
   "cell_type": "markdown",
   "metadata": {},
   "source": [
    "# 星号表达式 starred expression\n",
    "在某些场景下，比使用下标更方便"
   ]
  },
  {
   "cell_type": "code",
   "execution_count": 19,
   "metadata": {},
   "outputs": [
    {
     "name": "stdout",
     "output_type": "stream",
     "text": [
      "[3, 4]\n",
      "[]\n"
     ]
    }
   ],
   "source": [
    "demo_list = [1, 2, 3, 4]\n",
    "first, second, *others = demo_list\n",
    "print(others)\n",
    "\n",
    "# *others = demo_list 单独的星号表达式禁止使用的\n",
    "demo_list = [1, 2]\n",
    "first, second, *others = demo_list\n",
    "print(others) # 可以接受为空\n"
   ]
  },
  {
   "cell_type": "markdown",
   "metadata": {},
   "source": [
    "# 排序 Sort\n",
    "\n",
    "内置的字符串，整数浮点数，以及元祖都是可以比较的\n",
    "比较的顺序是升序，从小到大\n",
    "\n",
    "key 方法就是将不可排序的对象转为可排序的对象"
   ]
  },
  {
   "cell_type": "code",
   "execution_count": 28,
   "metadata": {},
   "outputs": [
    {
     "name": "stdout",
     "output_type": "stream",
     "text": [
      "[4, 2, 1]\n",
      "[1, 2]\n"
     ]
    }
   ],
   "source": [
    "demo_list = [1, 4, 2]\n",
    "\n",
    "demo_list.sort()\n",
    "demo_list.sort(reverse=True)\n",
    "\n",
    "print(demo_list)\n",
    "\n",
    "class Person:\n",
    "    def __init__(self,name: str) -> None:\n",
    "        self.name = name\n",
    "    \n",
    "    def __repr__(self) -> str:\n",
    "        return self.name\n",
    "\n",
    "demo_list = [Person(\"1\"), Person(\"2\")]\n",
    "demo_list.sort(key=lambda x: x.name)\n",
    "print(demo_list)"
   ]
  },
  {
   "cell_type": "markdown",
   "metadata": {},
   "source": [
    "# Dict"
   ]
  },
  {
   "cell_type": "markdown",
   "metadata": {},
   "source": [
    "目前Dict都是OrderedDict"
   ]
  }
 ],
 "metadata": {
  "kernelspec": {
   "display_name": "lang_smith",
   "language": "python",
   "name": "python3"
  },
  "language_info": {
   "codemirror_mode": {
    "name": "ipython",
    "version": 3
   },
   "file_extension": ".py",
   "mimetype": "text/x-python",
   "name": "python",
   "nbconvert_exporter": "python",
   "pygments_lexer": "ipython3",
   "version": "3.11.5"
  }
 },
 "nbformat": 4,
 "nbformat_minor": 2
}
